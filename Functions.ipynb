{
  "nbformat": 4,
  "nbformat_minor": 0,
  "metadata": {
    "colab": {
      "provenance": []
    },
    "kernelspec": {
      "name": "python3",
      "display_name": "Python 3"
    },
    "language_info": {
      "name": "python"
    }
  },
  "cells": [
    {
      "cell_type": "markdown",
      "source": [
        "1. What is the difference between a function and a method in python?\n",
        "\n",
        "Ans: The main difference between the function and a method is that a function is independent and can be used anywhere in the code on the other hand the method can be used only in a specific object or class"
      ],
      "metadata": {
        "id": "a-6F5WbvWg6-"
      }
    },
    {
      "cell_type": "markdown",
      "source": [
        "2. Explain the concept of function arguments and parameters in Python.\n",
        "\n",
        "Ans:\n",
        "1) Function arguements are the actual value which passes through the function while calling it.\n",
        "\n",
        "2) Parameters are the variable which are defined in function"
      ],
      "metadata": {
        "id": "vG-FDi_QWg3-"
      }
    },
    {
      "cell_type": "markdown",
      "source": [],
      "metadata": {
        "id": "O0k6UCibWg1n"
      }
    },
    {
      "cell_type": "markdown",
      "source": [
        "3. What are the different ways to define and call a function in Python?\n",
        "\n",
        "Ans: there are 9 ways to call a function in python:\n",
        "\n",
        "1) Directly Function Call.\n",
        "\n",
        "2) Use partial() Function.\n",
        "\n",
        "3) Use eval()\n",
        "\n",
        "4) Use getattr()\n",
        "\n",
        "5) Use dict()\n",
        "\n",
        "6) Use global()\n",
        "\n",
        "7) Compile and Run From Text.\n",
        "\n",
        "8) Use attrgetter()"
      ],
      "metadata": {
        "id": "hv5Ds-WoWgyn"
      }
    },
    {
      "cell_type": "markdown",
      "source": [
        "4. What is the purpose of the `return` statement in a Python function?\n",
        "\n",
        "Ans:\n",
        "\n",
        "return statement in python returns any type of value from the code as it is like\n",
        "integer, float, boolean, imaginary, list, tuple, dictionary and many more"
      ],
      "metadata": {
        "id": "9WhwwPJAWgv2"
      }
    },
    {
      "cell_type": "markdown",
      "source": [
        "5. What are iterators in Python and how do they differ from iterables?\n",
        "\n",
        "ANs:\n",
        "An iterator is an object, which is used to iterate over an iterable object using the __next__() on the other hand\n",
        "\n",
        "Iterable is an object, that one can iterate over. It generates an Iterator when passed to iter() method."
      ],
      "metadata": {
        "id": "oQu_5496WgqW"
      }
    },
    {
      "cell_type": "markdown",
      "source": [
        "6. Explain the concept of generators in Python and how they are defined.\n",
        "\n",
        "Ans:\n",
        "A Python generator function is defined like a normal function. However, in the normal function, we use the return keyword, whereas in generators, we use the yield keyword to generate a value. If yield is present in the body of the def, that function will automatically become a generator function.\n"
      ],
      "metadata": {
        "id": "KohBlZx-Wgne"
      }
    },
    {
      "cell_type": "markdown",
      "source": [
        "7. What are the advantages of using generators over regular functions?\n",
        "\n",
        "ANs:\n",
        "\n",
        "A standard function starts, runs, and returns when the function is finished, while a generator function can be paused and resumed multiple times"
      ],
      "metadata": {
        "id": "BDVK9F2BWgk2"
      }
    },
    {
      "cell_type": "markdown",
      "source": [
        "8.  What is a lambda function in Python and when is it typically used?\n",
        "\n",
        "ANs:\n",
        "\n",
        "It is an anonymous function means a\n",
        "function whithout name used for one time tasks.\n",
        "\n",
        "It is defined using lambda keyword, used for map(), filter(), and sorted()"
      ],
      "metadata": {
        "id": "ttXyDHvRWgiP"
      }
    },
    {
      "cell_type": "markdown",
      "source": [
        "9. Explain the purpose and usage of the `map()` function in Python\n",
        "\n",
        "Ans:\n",
        "\n",
        "Purpose:\n",
        "\n",
        "The map() function is used to apply a single transformation function to all the elements of an iterable.\n",
        "\n",
        "Usage:\n",
        "\n",
        "The map() function takes two arguments: the function to execute for each item and the iterable. The iterable can be a sequence, collection, or iterator object.\n",
        "Return value\n",
        "\n"
      ],
      "metadata": {
        "id": "FWho9T2ZWgfe"
      }
    },
    {
      "cell_type": "markdown",
      "source": [
        "10. What is the difference between `map()`, `reduce()`, and `filter()` functions in Python?\n",
        "\n",
        "Ans:\n",
        "\n",
        "'Map' applies a given function to each item of an iterable (like a list or set) and returns a list of the results. 'Filter' constructs a list from elements of an iterable for which a function returns true. 'Reduce' applies a rolling computation to sequential pairs of values in a list and returns a single result.\n",
        "\n"
      ],
      "metadata": {
        "id": "BTkrCigDWgcO"
      }
    },
    {
      "cell_type": "markdown",
      "source": [
        "11. Using pen & Paper write the internal mechanism for sum operation using  reduce function on this given list:\n",
        "[47,11,42,13];\n",
        "\n",
        "Ans: reduce() uses the first two unit from the list and add them then move forward with another first two and so on till the end.\n",
        "\n",
        "Function to add two numbers\n",
        "\n",
        "def add(x, y):\n",
        "\n",
        "return x + y\n",
        "\n",
        "\n",
        "a = [10,20,30,40]\n",
        "\n",
        "res = reduce(add, a)\n",
        "\n",
        "\n",
        "print(res)  # Output: 100\n",
        "\n",
        "\n",
        "internal working:\n",
        "\n",
        "initial list = [10,20,30,40]\n",
        "1. first two no = 10+20 = 30\n",
        "    \n",
        "    now the list is [30,30,40]\n",
        "\n",
        "2. next two no = 30+30 = 60\n",
        "\n",
        "  now the list is [60,40]\n",
        "\n",
        "3. now the last two no = 60+40 = 100\n",
        "\n",
        "    now list is empty and the function will stop\n",
        "\n",
        "output = 100\n",
        "\n"
      ],
      "metadata": {
        "id": "DcREal_aWgRn"
      }
    },
    {
      "cell_type": "code",
      "execution_count": 3,
      "metadata": {
        "id": "epCPXrEMWdKa",
        "colab": {
          "base_uri": "https://localhost:8080/"
        },
        "outputId": "b5b2b6ff-66dd-49c1-d733-70fb37106722"
      },
      "outputs": [
        {
          "output_type": "stream",
          "name": "stdout",
          "text": [
            "Sum of even numbers: 12\n"
          ]
        }
      ],
      "source": [
        "##1) write a python function that takes a list of numbers as input and return the\n",
        "# sum of all even numbers in the list\n",
        "\n",
        "def sum_of_evens(numbers):\n",
        "    return sum(num for num in numbers if num % 2 == 0)\n",
        "\n",
        "numbers_list = [1, 2, 3, 4, 5, 6]\n",
        "result = sum_of_evens(numbers_list)\n",
        "print(f\"Sum of even numbers: {result}\")\n"
      ]
    },
    {
      "cell_type": "code",
      "source": [
        "#2) create a python function that accepts a string and\n",
        "# returns the reverse string\n",
        "\n",
        "def reverse_string(a):\n",
        "  return a[::-1]\n",
        "\n",
        "reverse_string(\"Aditya\")"
      ],
      "metadata": {
        "colab": {
          "base_uri": "https://localhost:8080/",
          "height": 36
        },
        "id": "whwRsi8jhiUx",
        "outputId": "9158b9bf-f84d-4993-91e0-aa5c528ea41c"
      },
      "execution_count": null,
      "outputs": [
        {
          "output_type": "execute_result",
          "data": {
            "text/plain": [
              "'aytidA'"
            ],
            "application/vnd.google.colaboratory.intrinsic+json": {
              "type": "string"
            }
          },
          "metadata": {},
          "execution_count": 4
        }
      ]
    },
    {
      "cell_type": "code",
      "source": [
        "#3) implement a python function that takes a list of integers\n",
        "# and returns a new list containing the square of each number\n",
        "\n",
        "def square(lis):\n",
        "  return [x**2 for x in lis]\n",
        "\n",
        "square([1,2,3,4,5])"
      ],
      "metadata": {
        "colab": {
          "base_uri": "https://localhost:8080/"
        },
        "id": "UCNm-XuEi62y",
        "outputId": "a5539643-5c1b-4ab8-bc33-c30696085e03"
      },
      "execution_count": null,
      "outputs": [
        {
          "output_type": "execute_result",
          "data": {
            "text/plain": [
              "[1, 4, 9, 16, 25]"
            ]
          },
          "metadata": {},
          "execution_count": 7
        }
      ]
    },
    {
      "cell_type": "code",
      "source": [
        "#4) write a python function that checks if a given number is prime or not\n",
        "# from 1 to 200\n",
        "\n",
        "def check_prime(n):\n",
        "  if n < 2:\n",
        "    return False\n",
        "  for i in range(2,n):\n",
        "    if n % i == 0:\n",
        "      return False\n",
        "  return True\n",
        "\n",
        "for i in range(1,201):\n",
        "  if check_prime(i):\n",
        "    print(i)"
      ],
      "metadata": {
        "colab": {
          "base_uri": "https://localhost:8080/"
        },
        "id": "v-rL0R2-i60K",
        "outputId": "cddf7f98-982f-40cf-d1a3-1bc24411ee7f"
      },
      "execution_count": null,
      "outputs": [
        {
          "output_type": "stream",
          "name": "stdout",
          "text": [
            "2\n",
            "3\n",
            "5\n",
            "7\n",
            "11\n",
            "13\n",
            "17\n",
            "19\n",
            "23\n",
            "29\n",
            "31\n",
            "37\n",
            "41\n",
            "43\n",
            "47\n",
            "53\n",
            "59\n",
            "61\n",
            "67\n",
            "71\n",
            "73\n",
            "79\n",
            "83\n",
            "89\n",
            "97\n",
            "101\n",
            "103\n",
            "107\n",
            "109\n",
            "113\n",
            "127\n",
            "131\n",
            "137\n",
            "139\n",
            "149\n",
            "151\n",
            "157\n",
            "163\n",
            "167\n",
            "173\n",
            "179\n",
            "181\n",
            "191\n",
            "193\n",
            "197\n",
            "199\n"
          ]
        }
      ]
    },
    {
      "cell_type": "code",
      "source": [
        "#5) create an iterator class in python that generates the fibonacci sequence\n",
        "# upto a specified number of terms\n",
        "\n",
        "\n",
        "class fibo:\n",
        "  def __init__(self,terms):\n",
        "    self.terms = terms\n",
        "    self.count = 0\n",
        "    self.a,self.b = 0,1\n",
        "\n",
        "  def __iter__(self):\n",
        "    return self\n",
        "\n",
        "  def __next__(self):\n",
        "    if self.count < self.terms:\n",
        "      fibo = self.a\n",
        "      self.a,self.b = self.b,self.a+self.b\n",
        "      self.count = self.count+1\n",
        "      return fibo\n",
        "    else:\n",
        "      raise StopIteration\n",
        "\n",
        "\n",
        "fib = fibo(5)\n",
        "\n",
        "for n in fib:\n",
        "  print(n)"
      ],
      "metadata": {
        "colab": {
          "base_uri": "https://localhost:8080/"
        },
        "id": "H3yNiXo8i6xr",
        "outputId": "e88e0dbc-27a0-4d72-d1c0-894a8ecbcd78"
      },
      "execution_count": null,
      "outputs": [
        {
          "output_type": "stream",
          "name": "stdout",
          "text": [
            "0\n",
            "1\n",
            "1\n",
            "2\n",
            "3\n"
          ]
        }
      ]
    },
    {
      "cell_type": "code",
      "source": [
        "#6) write a generator function in python that yields the power of\n",
        "# 2 upto a given exponent\n",
        "\n",
        "def power_2(expo):\n",
        "  for i in range(expo+1):\n",
        "    yield 2 ** i\n",
        "\n",
        "for power in power_2(5):\n",
        "  print(power)"
      ],
      "metadata": {
        "colab": {
          "base_uri": "https://localhost:8080/"
        },
        "id": "5qCjhYQMpi2F",
        "outputId": "0791635b-9185-47f6-b5e1-5838b4dc71a0"
      },
      "execution_count": null,
      "outputs": [
        {
          "output_type": "stream",
          "name": "stdout",
          "text": [
            "1\n",
            "2\n",
            "4\n",
            "8\n",
            "16\n",
            "32\n"
          ]
        }
      ]
    },
    {
      "cell_type": "code",
      "source": [
        "#7) implement a generator function that reads a file\n",
        "# line by line and yields each line as string\n",
        "\n",
        "def read_file_line_by_line(file_path):\n",
        "    with open('example.txt', 'r') as file:\n",
        "        for line in file:\n",
        "            yield line.strip()\n",
        "\n",
        "# Example usage:\n",
        "file_path = \"example.txt\"  # Replace with your file path\n",
        "for line in read_file_line_by_line(file_path):\n",
        "    print(line)\n"
      ],
      "metadata": {
        "id": "VIMGT0lKqC97",
        "colab": {
          "base_uri": "https://localhost:8080/"
        },
        "outputId": "c55ced02-e9a1-4470-bb69-3598e593695a"
      },
      "execution_count": 11,
      "outputs": [
        {
          "output_type": "stream",
          "name": "stdout",
          "text": [
            "implement a generator function that reads a file\n",
            "# line by line and yields each line as string\\\n",
            "#8) use a lambda function in python to sort a list of tuples\n",
            "# based on the second element of each tuple\n",
            "#9) write a python program that uses 'map()' to convert\n",
            "# a list of temperature from celsius to fahrenheit\n"
          ]
        }
      ]
    },
    {
      "cell_type": "code",
      "source": [
        "#8) use a lambda function in python to sort a list of tuples\n",
        "# based on the second element of each tuple\n",
        "\n",
        "# List of tuples\n",
        "tuples_list = [(1, 3), (4, 1), (2, 2), (5, 0)]\n",
        "\n",
        "# Sorting using lambda function\n",
        "sorted_list = sorted(tuples_list, key=lambda x: x[1])\n",
        "\n",
        "# Print the sorted list\n",
        "print(\"Original list:\", tuples_list)\n",
        "print(\"Sorted list:\", sorted_list)\n"
      ],
      "metadata": {
        "id": "bCk6PC4zqC6e"
      },
      "execution_count": null,
      "outputs": []
    },
    {
      "cell_type": "code",
      "source": [
        "#9) write a python program that uses 'map()' to convert\n",
        "# a list of temperature from celsius to fahrenheit\n",
        "\n",
        "def convert_to_fahrenheit(celsius_list):\n",
        "    return list(map(lambda c: (c * 9/5) + 32, celsius_list))\n",
        "\n",
        "# Example usage:\n",
        "celsius_temperatures = [0, 15, 25, 30, 100]\n",
        "fahrenheit_temperatures = convert_to_fahrenheit(celsius_temperatures)\n",
        "\n",
        "print(\"Celsius temperatures:\", celsius_temperatures)\n",
        "print(\"Fahrenheit temperatures:\", fahrenheit_temperatures)\n"
      ],
      "metadata": {
        "id": "HV2faLRyqC4H",
        "colab": {
          "base_uri": "https://localhost:8080/"
        },
        "outputId": "77397f1a-b200-4588-faa5-120163da7735"
      },
      "execution_count": 8,
      "outputs": [
        {
          "output_type": "stream",
          "name": "stdout",
          "text": [
            "Celsius temperatures: [0, 15, 25, 30, 100]\n",
            "Fahrenheit temperatures: [32.0, 59.0, 77.0, 86.0, 212.0]\n"
          ]
        }
      ]
    },
    {
      "cell_type": "code",
      "source": [
        "#10) create a python program that uses a 'filter()' to remove\n",
        "# all the vowels from the given string\n",
        "\n",
        "def is_not_vowel(char):\n",
        "    vowels = \"aeiouAEIOU\"\n",
        "    return char not in vowels\n",
        "\n",
        "def remove_vowels(input_string):\n",
        "  return \"\".join(filter(is_not_vowel, input_string))\n",
        "\n",
        "# Example usage:\n",
        "text = \"Hello, how are you doing today?\"\n",
        "result = remove_vowels(text)\n",
        "print(f\"Original String: {text}\")\n",
        "print(f\"String without vowels: {result}\")"
      ],
      "metadata": {
        "id": "jF-L-5E4qC1o",
        "colab": {
          "base_uri": "https://localhost:8080/"
        },
        "outputId": "6df1d582-3b43-4fe7-ba77-434a13bba5b6"
      },
      "execution_count": 7,
      "outputs": [
        {
          "output_type": "stream",
          "name": "stdout",
          "text": [
            "Original String: Hello, how are you doing today?\n",
            "String without vowels: Hll, hw r y dng tdy?\n"
          ]
        }
      ]
    },
    {
      "cell_type": "code",
      "source": [
        "#11 imagine a accounting routine used in a book shop.\n",
        "# it works on a list with sublists, which look like this\n",
        "\n",
        "#order_number     Book title and Author        quantity    price per item\n",
        "#3457            learning python, Mark Lutx     4           40.95\n",
        "#98762          Programming python, Mark Lutx   5           56.80\n",
        "#77226         Head first python, Paul Barry    3           32.95\n",
        "#88112        Einfuhrung in python3, Brend Klein  3         24.99\n",
        "\n",
        "## write a python program which returns a list with 2 tuples. each tuple consist of the order number and the product of the price per item and the quantity. The product should be increased by 10 if the value of the order is smaller than 100,00\n",
        "\n",
        "# write python program using lambda and map\n",
        "\n",
        "\n",
        "orders = [\n",
        "    [3457, \"Learning Python, Mark Lutz\", 4, 40.95],\n",
        "    [98762, \"Programming Python, Mark Lutz\", 5, 56.80],\n",
        "    [77226, \"Head First Python, Paul Barry\", 3, 32.95],\n",
        "    [88112, \"Einfuhrung in Python3, Brend Klein\", 3, 24.99],\n",
        "]\n",
        "\n",
        "# Function using map and lambda\n",
        "result = list(map(lambda order: (\n",
        "    order[0],\n",
        "    order[2] * order[3] + (10 if order[2] * order[3] < 100 else 0)\n",
        "), orders))\n",
        "\n",
        "# Print the result\n",
        "print(result)\n"
      ],
      "metadata": {
        "id": "ITJ4Jhl5qCun",
        "colab": {
          "base_uri": "https://localhost:8080/"
        },
        "outputId": "2f985ff6-235c-443e-a0ca-640b159d45a2"
      },
      "execution_count": 4,
      "outputs": [
        {
          "output_type": "stream",
          "name": "stdout",
          "text": [
            "[(3457, 163.8), (98762, 284.0), (77226, 108.85000000000001), (88112, 84.97)]\n"
          ]
        }
      ]
    }
  ]
}